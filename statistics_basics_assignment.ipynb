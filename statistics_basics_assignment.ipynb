{
  "nbformat": 4,
  "nbformat_minor": 0,
  "metadata": {
    "colab": {
      "provenance": []
    },
    "kernelspec": {
      "name": "python3",
      "display_name": "Python 3"
    },
    "language_info": {
      "name": "python"
    }
  },
  "cells": [
    {
      "cell_type": "markdown",
      "source": [
        "                         **STATISTICS BASICS ASSIGNMENT**\n",
        "\n",
        "---\n",
        "\n",
        "\n",
        "\n",
        "\n",
        "\n",
        "\n",
        "**Question 1: What is the difference between descriptive statistics and inferential statistics? Explain with examples.**\n",
        "\n",
        "Descriptive and inferential statistics are two fundamental branches of statistical analysis, each serving a different purpose in data interpretation.\n",
        "\n",
        "**Descriptive statistics**\n",
        "Descriptive statistics involve methods for summarizing and organizing data in a meaningful way. It focuses on presenting the main features of a dataset, either numerically or visually, without making predictions or generalizations beyond the data at hand.\n",
        "\n",
        "**Example:**\n",
        "Suppose a teacher collects the test scores of 50 students in a class. She calculates the mean score (e.g., 72%), median, mode, standard deviation, and draws a histogram to visualize the distribution. These calculations and visualizations help understand how the students performed overall but only apply to that specific class.\n",
        "\n",
        "**Inferential Statistics:**\n",
        "Inferential statistics involve techniques that allow us to draw conclusions or make predictions about a larger population based on a sample of data. It includes hypothesis testing, confidence intervals, regression analysis, etc.\n",
        "\n",
        "**Example:**\n",
        "Imagine a researcher wants to understand the average screen time of teenagers in India. Surveying all teenagers is impractical, so she surveys a sample of 500 teenagers and finds an average screen time of 4 hours per day. Using inferential statistics, she estimates the average screen time for all teenagers in India, possibly providing a confidence interval (e.g., 3.8 to 4.2 hours) and testing hypotheses about usage pattern\n",
        "\n",
        "\n",
        "\n",
        "---\n",
        "**Question 2 What is sampling in statistics? Explain the differences between random and stratified sampling.**\n",
        "\n",
        "\n",
        "\n",
        "Sampling is the process of selecting a subset (sample) from a larger group (population) to analyze and draw conclusions about the entire population. Since studying the whole population can be time-consuming, costly, or impractical, sampling allows researchers to make informed estimates using representative data.\n",
        "\n",
        "**Random Sampling:**\n",
        "\n",
        "In random sampling, every member of the population has an equal chance of being selected. It is simple and minimizes bias, assuming the sample size is large enough.\n",
        "\n",
        "**Example:**\n",
        "\n",
        "If a company has 1,000 employees and wants to survey 100 of them, random sampling would mean selecting those 100 employees using a lottery method or a random number generator — ensuring each employee has the same chance of being picked.\n",
        "\n",
        "**Stratified Sampling:**\n",
        "In stratified sampling, the population is divided into distinct groups (strata) based on specific characteristics such as age, gender, income, etc. Then, random samples are taken from each stratum. This method ensures better representation of all sub-groups within the population.\n",
        "\n",
        "**Example:**\n",
        "Consider a college with 60% undergraduates and 40% postgraduates. To get a representative sample of 100 students, stratified sampling would involve selecting 60 undergraduates and 40 postgraduates, randomly from each group.\n",
        "\n",
        "\n",
        "\n",
        "---\n",
        "\n",
        "**Question 3: Define mean, median, and mode. Explain why these measures of central tendency are important.**\n",
        "\n",
        "**Mean (Arithmetic Average)**\n",
        "\n",
        "The mean is the sum of all values in a dataset divided by the number of values.\n",
        "\n",
        "**Formula**\n",
        "\n",
        "Total number of observations\n",
        "Mean= Sum of all observations÷ Total number of observations\n",
        "\n",
        "**Example**\n",
        "\n",
        "For data: 5, 10, 15\n",
        "Mean = (5 + 10 + 15) / 3 = 30 / 3 = 10\n",
        "\n",
        "**Median**\n",
        "\n",
        "The median is the middle value in an ordered dataset. If the number of observations\n",
        "is even, it is the average of the two middle values.\n",
        "\n",
        "**Steps**\n",
        "\n",
        "Arrange data in ascending order.\n",
        "Find the middle value.\n",
        "\n",
        "**Example**\n",
        "\n",
        "Data: 4, 8, 12 → Median = 8\n",
        "Data: 3, 5, 7, 9 → Median = (5+7)/2 = 6\n",
        "\n",
        "**Mode**\n",
        "\n",
        "The mode is the value that occurs most frequently in a dataset.\n",
        "A dataset can have no mode, one mode (unimodal), or multiple modes (bimodal/multimodal).\n",
        "\n",
        "**Example**\n",
        "\n",
        "Data: 2, 4, 4, 5, 6 → Mode = 4 (appears twice)\n",
        "\n",
        "**Importance of Measures of Central Tendency**\n",
        "\n",
        "1. Summarizes large data into a single representative value.\n",
        "2. Helps in comparison across different groups or time periods.\n",
        "3. Provides a basis for further statistical analysis like standard deviation, etc.\n",
        "4. Useful in decision making in business, economics, education, health, etc.\n",
        "5. Each measure is useful in different situations (e.g., median in skewed data).\n",
        "\n",
        "\n",
        "---\n",
        "**Question 4: Explain skewness and kurtosis. What does a positive skew imply about the data**?\n",
        "\n",
        "\n",
        "**Skewness**\n",
        "\n",
        "Skewness is a measure of the asymmetry or lopsidedness of a probability distribution of a real\n",
        "valued random variable around its mean.\n",
        "It helps determine how the data is distributed — whether it's symmetrical, left-skewed, or right-skewed.\n",
        "\n",
        "**Kurtosis**\n",
        "\n",
        "Kurtosis is a statistical measure that describes the \"tailedness\" or peakedness of a probability distribution.\n",
        "\n",
        "**Positive skew imply about data**\n",
        "\n",
        "A positive skew, also known as right skew, refers to a type of distribution in which the tail on the right side is longer or stretched out more than the left side.\n",
        "\n",
        "**Key Characteristics**\n",
        "\n",
        "1.Majority of the data values are concentrated on the lower end of the scale.\n",
        "2.A few extremely high values (outliers) pull the average (mean) to the right.\n",
        "3.As a result, the mean is greater than the median, and the median is greater than the mode\n",
        "4.It indicates whether the data have heavy tails (outliers) or light tails compared to a normal distribution.\n",
        "\n"
      ],
      "metadata": {
        "id": "ZljlfBzqKkWE"
      }
    },
    {
      "cell_type": "markdown",
      "source": [],
      "metadata": {
        "id": "TDZTBj3CQatd"
      }
    },
    {
      "cell_type": "code",
      "source": [
        "'''\n",
        "Question 5: Implement a Python program to compute the mean, median, and mode of a\n",
        "given list of numbers. numbers = [12, 15, 12, 18, 19, 12, 20, 22, 19, 19, 24, 24, 24, 26, 28]\n",
        "'''\n",
        "\n",
        "import statistics\n",
        "\n",
        "# Given list of numbers\n",
        "numbers = [12, 15, 12, 18, 19, 12, 20, 22, 19, 19, 24, 24, 24, 26, 28]\n",
        "\n",
        "# Calculate Mean\n",
        "mean_value = statistics.mean(numbers)\n",
        "\n",
        "# Calculate Median\n",
        "median_value = statistics.median(numbers)\n",
        "\n",
        "# Calculate Mode\n",
        "mode_value = statistics.mode(numbers)\n",
        "\n",
        "# Print Results\n",
        "print(\"Mean:\", mean_value)\n",
        "print(\"Median:\", median_value)\n",
        "print(\"Mode:\", mode_value)\n"
      ],
      "metadata": {
        "colab": {
          "base_uri": "https://localhost:8080/"
        },
        "id": "yFZdXO0YM_2U",
        "outputId": "2fc84a1d-9752-4e20-e43e-4a302cd73603"
      },
      "execution_count": 6,
      "outputs": [
        {
          "output_type": "stream",
          "name": "stdout",
          "text": [
            "Mean: 19.6\n",
            "Median: 19\n",
            "Mode: 12\n"
          ]
        }
      ]
    },
    {
      "cell_type": "code",
      "source": [
        "'''\n",
        "Question 6: Compute the covariance and correlation coefficient between the following two\n",
        "datasets provided as lists in Python: list_x = [10, 20, 30, 40, 50] list_y = [15, 25, 35, 45, 60]\n",
        "'''\n",
        "\n",
        "import numpy as np\n",
        "\n",
        "# Given datasets\n",
        "list_x = [10, 20, 30, 40, 50]\n",
        "list_y = [15, 25, 35, 45, 60]\n",
        "\n",
        "# Convert to NumPy arrays\n",
        "x = np.array(list_x)\n",
        "y = np.array(list_y)\n",
        "\n",
        "# Calculate Covariance Matrix\n",
        "cov_matrix = np.cov(x, y, bias=False)\n",
        "covariance = cov_matrix[0][1]\n",
        "\n",
        "# Calculate Correlation Coefficient\n",
        "correlation = np.corrcoef(x, y)[0][1]\n",
        "\n",
        "# Print Results\n",
        "print(\"Covariance:\", covariance)\n",
        "print(\"Correlation Coefficient:\", correlation)\n"
      ],
      "metadata": {
        "colab": {
          "base_uri": "https://localhost:8080/"
        },
        "id": "oMPsZvjSNg12",
        "outputId": "543c6831-dd8f-4ed9-813f-5190746bf2e4"
      },
      "execution_count": 7,
      "outputs": [
        {
          "output_type": "stream",
          "name": "stdout",
          "text": [
            "Covariance: 275.0\n",
            "Correlation Coefficient: 0.995893206467704\n"
          ]
        }
      ]
    },
    {
      "cell_type": "code",
      "source": [
        "'''\n",
        "Question 7: Write a Python script to draw a boxplot for the following numeric list and identify'\n",
        "its outliers. Explain the result: data = [12, 14, 14, 15, 18, 19, 19, 21, 22, 22, 23, 23, 24, 26, 29, 35]\n",
        "'''\n",
        "\n",
        "\n",
        "\n",
        "import matplotlib.pyplot as plt\n",
        "\n",
        "# Given data\n",
        "data = [12, 14, 14, 15, 18, 19, 19, 21, 22, 22, 23, 23, 24, 26, 29, 35]\n",
        "\n",
        "# Create the boxplot\n",
        "plt.boxplot(data, vert=False)\n",
        "plt.title(\"Boxplot of the Given Data\")\n",
        "plt.xlabel(\"Value\")\n",
        "plt.grid(True)\n",
        "plt.show()\n"
      ],
      "metadata": {
        "colab": {
          "base_uri": "https://localhost:8080/",
          "height": 472
        },
        "id": "Hf6gKjPUNuzL",
        "outputId": "d8ccfac3-e552-43f9-f2d4-963c88061da5"
      },
      "execution_count": 16,
      "outputs": [
        {
          "output_type": "display_data",
          "data": {
            "text/plain": [
              "<Figure size 640x480 with 1 Axes>"
            ],
            "image/png": "[encoded data removed]"
          },
          "metadata": {}
        }
      ]
    },
    {
      "cell_type": "code",
      "source": [
        "'''\n",
        "Question 8: You are working as a data analyst in an e-commerce company. The marketing\n",
        "team wants to know if there is a relationship between advertising spend and daily sales.\n",
        "Explain how you would use covariance and correlation to explore this relationship.\n",
        "Write Python code to compute the correlation between the two lists: advertising_spend = [200,\n",
        "250, 300, 400, 500] daily_sales = [2200, 2450, 2750, 3200, 4000]\n",
        "'''\n",
        "\n",
        "import numpy as np\n",
        "\n",
        "# Given data\n",
        "advertising_spend = [200, 250, 300, 400, 500]\n",
        "daily_sales = [2200, 2450, 2750, 3200, 4000]\n",
        "\n",
        "# Convert to NumPy arrays\n",
        "x = np.array(advertising_spend)\n",
        "y = np.array(daily_sales)\n",
        "\n",
        "# Covariance Matrix\n",
        "cov_matrix = np.cov(x, y, bias=False)\n",
        "covariance = cov_matrix[0][1]\n",
        "\n",
        "# Correlation Coefficient\n",
        "correlation = np.corrcoef(x, y)[0][1]\n",
        "\n",
        "# Print results\n",
        "print(\"Covariance:\", covariance)\n",
        "print(\"Correlation Coefficient:\", correlation)\n"
      ],
      "metadata": {
        "colab": {
          "base_uri": "https://localhost:8080/"
        },
        "id": "I2a0CrHZOaTH",
        "outputId": "18df1592-71b8-4a52-f853-b5ea7ab0c2ff"
      },
      "execution_count": 17,
      "outputs": [
        {
          "output_type": "stream",
          "name": "stdout",
          "text": [
            "Covariance: 84875.0\n",
            "Correlation Coefficient: 0.9935824101653329\n"
          ]
        }
      ]
    },
    {
      "cell_type": "code",
      "source": [
        "'''\n",
        "Question 9: Your team has collected customer satisfaction survey data on a scale of 1-10 and\n",
        "wants to understand its distribution before launching a new product. Explain which summary\n",
        "statistics and visualizations (e.g. mean, standard deviation, histogram) you’d use. Write\n",
        "Python code to create a histogram using Matplotlib for the survey data: survey_scores = [7, 8,\n",
        "5, 9, 6, 7, 8, 9, 10, 4, 7, 6, 9, 8, 7]\n",
        "'''\n",
        "import matplotlib.pyplot as plt\n",
        "import statistics\n",
        "\n",
        "# Survey data\n",
        "survey_scores = [7, 8, 5, 9, 6, 7, 8, 9, 10, 4, 7, 6, 9, 8, 7]\n",
        "\n",
        "# Summary statistics\n",
        "mean_score = statistics.mean(survey_scores)\n",
        "median_score = statistics.median(survey_scores)\n",
        "mode_score = statistics.mode(survey_scores)\n",
        "std_dev = statistics.stdev(survey_scores)\n",
        "\n",
        "# Print summary\n",
        "print(\"Mean:\", mean_score)\n",
        "print(\"Median:\", median_score)\n",
        "print(\"Mode:\", mode_score)\n",
        "print(\"Standard Deviation:\", std_dev)\n",
        "\n",
        "# Create histogram\n",
        "plt.hist(survey_scores, bins=7, edgecolor='black')\n",
        "plt.title(\"Customer Satisfaction Score Distribution\")\n",
        "plt.xlabel(\"Satisfaction Score (1–10)\")\n",
        "plt.ylabel(\"Frequency\")\n",
        "plt.grid(True)\n",
        "plt.show()\n",
        "\n",
        "\n"
      ],
      "metadata": {
        "colab": {
          "base_uri": "https://localhost:8080/",
          "height": 546
        },
        "id": "NmD4JjBhPgUJ",
        "outputId": "1f3aafa6-16b3-4a26-bd28-0cfaa44bae10"
      },
      "execution_count": 18,
      "outputs": [
        {
          "output_type": "stream",
          "name": "stdout",
          "text": [
            "Mean: 7.333333333333333\n",
            "Median: 7\n",
            "Mode: 7\n",
            "Standard Deviation: 1.632993161855452\n"
          ]
        },
        {
          "output_type": "display_data",
          "data": {
            "text/plain": [
              "<Figure size 640x480 with 1 Axes>"
            ],
            "image/png": "[encoded data removed]"
          },
          "metadata": {}
        }
      ]
    }
  ]
}